{
 "cells": [
  {
   "cell_type": "markdown",
   "metadata": {},
   "source": [
    "## Python Task 3"
   ]
  },
  {
   "cell_type": "markdown",
   "metadata": {},
   "source": [
    "### Question: Count Vowels in a String\n",
    "\n",
    "**Description:** Write a function named count_vowels that takes a string as an argument and returns the count of vowels (a, e, i, o, u) in the string. \n",
    "\n",
    "The function should be case-insensitive, counting both uppercase and lowercase vowels.\n"
   ]
  },
  {
   "cell_type": "code",
   "execution_count": null,
   "metadata": {},
   "outputs": [],
   "source": [
    "'''\n",
    "# Example Input:\n",
    "text = \"Hello World\"\n",
    "# Expected Output:\n",
    "3\n",
    "'''\n"
   ]
  },
  {
   "cell_type": "code",
   "execution_count": null,
   "metadata": {},
   "outputs": [],
   "source": [
    "def count_vowels(s):\n",
    "    vowels = set(\"aeiou\")\n",
    "    return sum(1 for char in s.lower() if char in vowels)\n",
    "\n",
    "# Example usage\n",
    "text = input(\"enter text : \")\n",
    "print(f\"Number of vowels: {count_vowels(text)}\")"
   ]
  },
  {
   "cell_type": "markdown",
   "metadata": {},
   "source": [
    "### Question: Find the Maximum Value in a List Using a Function\n",
    "Description: Write a function named find_max that takes a list of integers as an argument and returns the maximum value in the list. \n",
    "\n",
    "Do not use Python’s built-in max() function. The function should handle cases where the list is empty by returning None.\n"
   ]
  },
  {
   "cell_type": "code",
   "execution_count": null,
   "metadata": {},
   "outputs": [],
   "source": [
    "'''\n",
    "# Example Input:\n",
    "numbers = [3, 5, 2, 8, 1]\n",
    "# Expected Output:\n",
    "8\n",
    "'''"
   ]
  },
  {
   "cell_type": "code",
   "execution_count": null,
   "metadata": {},
   "outputs": [],
   "source": [
    "def find_max(int_list):\n",
    "    if not int_list:\n",
    "        return None\n",
    "    \n",
    "    max_value = int_list[0]\n",
    "    \n",
    "    for num in int_list:\n",
    "        if num > max_value:\n",
    "            max_value = num\n",
    "\n",
    "    return max_value\n",
    "\n",
    "numbers=list(map(int,input(\"enter the num separated by spaces: \").split()))\n",
    "\n",
    "print(f\"List of numbers is {numbers}\")\n",
    "print(find_max(numbers))  \n"
   ]
  }
 ],
 "metadata": {
  "kernelspec": {
   "display_name": "Python 3",
   "language": "python",
   "name": "python3"
  },
  "language_info": {
   "codemirror_mode": {
    "name": "ipython",
    "version": 3
   },
   "file_extension": ".py",
   "mimetype": "text/x-python",
   "name": "python",
   "nbconvert_exporter": "python",
   "pygments_lexer": "ipython3",
   "version": "3.11.0"
  }
 },
 "nbformat": 4,
 "nbformat_minor": 4
}
