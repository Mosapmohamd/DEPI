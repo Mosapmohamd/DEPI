{
 "cells": [
  {
   "cell_type": "markdown",
   "metadata": {},
   "source": [
    "#### This is Class cantains 4 arithmetic Functions (Addition,Subtraction,Multiplication,Division) inside a Class called \"Calculator\""
   ]
  },
  {
   "cell_type": "code",
   "execution_count": null,
   "metadata": {},
   "outputs": [],
   "source": [
    "class Calculator:\n",
    "    def add (self,x,y):\n",
    "        return x+y\n",
    "    def sub (self,x,y):\n",
    "        return x-y\n",
    "    def mult (self,x,y):\n",
    "        return x*y\n",
    "    def div (self,x,y):\n",
    "        if y==0:\n",
    "            return \"Error!, You can't division by Zero\"\n",
    "        else:\n",
    "            return x/y"
   ]
  },
  {
   "cell_type": "markdown",
   "metadata": {},
   "source": [
    "#### main Function; Create an object  from 'calculator' , then enter a loop that asks the user to enter the operation and numbers , display the result, or terminate the program when 'stop' is typed."
   ]
  },
  {
   "cell_type": "code",
   "execution_count": null,
   "metadata": {},
   "outputs": [],
   "source": [
    "def main():\n",
    "    global Calculator\n",
    "    Calculator = Calculator()\n",
    "    while True:\n",
    "        Oper=input(\"Enter the Operator (add,sub,milt,div) or stop to exit: \")\n",
    "        if Oper==\"stop\":\n",
    "            break\n",
    "        elif Oper==\"add\" or Oper==\"sub\" or Oper==\"milt\" or Oper==\"div\":\n",
    "            try:\n",
    "                num1=float(input(\"Enter the first number: \"))\n",
    "                num2=float(input(\"Enter the second number: \"))\n",
    "\n",
    "                if Oper==\"add\":\n",
    "                    result=Calculator.add(num1,num2)\n",
    "                elif Oper==\"sub\":\n",
    "                    result=Calculator.sub(num1,num2)\n",
    "                elif Oper==\"milt\":\n",
    "                    result=Calculator.mult(num1,num2)\n",
    "                elif Oper==\"div\":\n",
    "                    result=Calculator.div(num1,num2)\n",
    "                print(\"Result: \",result)\n",
    "\n",
    "            except ValueError:\n",
    "                print(\"Invalid input. Please enter a valid number.\")\n",
    "        else:\n",
    "            print(\"Invalid operator. Please enter a valid operator.\")"
   ]
  },
  {
   "cell_type": "markdown",
   "metadata": {},
   "source": [
    "### call this Function"
   ]
  },
  {
   "cell_type": "code",
   "execution_count": null,
   "metadata": {},
   "outputs": [],
   "source": [
    "if __name__==\"__main__\":\n",
    "    main()"
   ]
  }
 ],
 "metadata": {
  "kernelspec": {
   "display_name": "Python 3",
   "language": "python",
   "name": "python3"
  },
  "language_info": {
   "codemirror_mode": {
    "name": "ipython",
    "version": 3
   },
   "file_extension": ".py",
   "mimetype": "text/x-python",
   "name": "python",
   "nbconvert_exporter": "python",
   "pygments_lexer": "ipython3",
   "version": "3.13.0"
  }
 },
 "nbformat": 4,
 "nbformat_minor": 2
}
